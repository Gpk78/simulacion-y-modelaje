{
 "cells": [
  {
   "cell_type": "code",
   "execution_count": 1,
   "id": "e8d98550-a24e-486d-960c-c87bf030a5a7",
   "metadata": {},
   "outputs": [
    {
     "data": {
      "application/vnd.jupyter.widget-view+json": {
       "model_id": "3838872bcf444b3db8f711cc89deaf7a",
       "version_major": 2,
       "version_minor": 0
      },
      "text/plain": [
       "interactive(children=(IntSlider(value=20, continuous_update=False, description='Número de neuronas de entrada'…"
      ]
     },
     "metadata": {},
     "output_type": "display_data"
    }
   ],
   "source": [
    "# Importamos librerías necesarias\n",
    "%matplotlib inline\n",
    "from brian2 import *\n",
    "from brian2tools import *\n",
    "import ipywidgets as ipw\n",
    "\n",
    "# Usamos numpy como motor de cálculo\n",
    "prefs.codegen.target = 'numpy'\n",
    "\n",
    "# Definimos el modelo\n",
    "def modelo(N=20, R_max=150, f=10, w=0.1, p=0.5, tau=5, tau_t=50, delta_t=0.1):\n",
    "    # Parámetros de simulación\n",
    "    R_max = R_max*Hz       # Frecuencia máxima de disparo\n",
    "    f = f*Hz               # Frecuencia de modulación\n",
    "    tau = tau*ms           # Constante de tiempo de membrana\n",
    "    tau_t = tau_t*ms       # Constante de tiempo de adaptación\n",
    "    duracion = 200*ms      # Tiempo total de simulación\n",
    "    \n",
    "    # Neuronas de entrada (Poisson)\n",
    "    G = PoissonGroup(N, rates='R_max*0.5*(1+sin(2*pi*f*t))')\n",
    "    \n",
    "    # Neurona objetivo con adaptación\n",
    "    ecuaciones = '''\n",
    "    dV/dt = -V/tau : 1\n",
    "    dVt/dt = (1-Vt)/tau_t : 1\n",
    "    '''\n",
    "    H = NeuronGroup(1, ecuaciones,\n",
    "                    threshold='V>Vt',\n",
    "                    reset='V=0; Vt += delta_t',\n",
    "                    method='linear')\n",
    "    H.Vt = 1  # valor inicial del umbral\n",
    "    \n",
    "    # Sinapsis entre neuronas de entrada y la neurona objetivo\n",
    "    S = Synapses(G, H, on_pre='V += w')\n",
    "    S.connect(p=p)  # conexión con probabilidad p\n",
    "    \n",
    "    # Monitores de actividad\n",
    "    MG = SpikeMonitor(G)                  # Registra disparos de entrada\n",
    "    MH = StateMonitor(H, ('V', 'Vt'), record=True)  # Registra voltaje y umbral\n",
    "    \n",
    "    # Ejecutamos la simulación\n",
    "    run(duracion)\n",
    "    \n",
    "    # Graficamos resultados\n",
    "    figure(figsize=(15, 4))\n",
    "    \n",
    "    # 1. Disparos de las neuronas fuente\n",
    "    subplot(131)\n",
    "    brian_plot(MG)\n",
    "    title('Neuronas de entrada (Poisson)')\n",
    "    \n",
    "    # 2. Esquema de sinapsis\n",
    "    subplot(132)\n",
    "    plot(zeros(N), arange(N), 'ob')\n",
    "    plot([0, 1], [S.i, ones(len(S.i))*N/2.], '-k')\n",
    "    plot([1], [N/2.], 'og')\n",
    "    xlim(-0.1, 1.1)\n",
    "    ylim(-1, N)\n",
    "    axis('off')\n",
    "    title('Conexiones sinápticas')\n",
    "    \n",
    "    # 3. Voltaje de la neurona objetivo\n",
    "    subplot(133)\n",
    "    plot(MH.t, MH.V[0], label='Voltaje (V)')\n",
    "    plot(MH.t, MH.Vt[0], label='Umbral (Vt)')\n",
    "    legend(loc='upper left')\n",
    "    title('Neurona objetivo')\n",
    "\n",
    "# Widgets interactivos para variar parámetros en vivo\n",
    "layout = ipw.Layout(width='100%')\n",
    "style = {'description_width': 'initial'}\n",
    "\n",
    "ipw.interact(modelo,\n",
    "             N=ipw.IntSlider(value=20, min=5, max=100, step=5, continuous_update=False,\n",
    "                             description=\"Número de neuronas de entrada\", style=style, layout=layout),\n",
    "             R_max=ipw.FloatSlider(value=300, min=0, max=500, step=10, continuous_update=False,\n",
    "                                   description=\"Frecuencia máx. de entrada (Hz)\", style=style, layout=layout),\n",
    "             f=ipw.FloatSlider(value=10, min=1, max=50, step=1, continuous_update=False,\n",
    "                               description=\"Frecuencia de modulación (Hz)\", style=style, layout=layout),\n",
    "             p=ipw.FloatSlider(value=0.5, min=0, max=1, step=0.01, continuous_update=False,\n",
    "                               description=\"Probabilidad de conexión sináptica\", style=style, layout=layout),\n",
    "             w=ipw.FloatSlider(value=0.3, min=0, max=1, step=0.01, continuous_update=False,\n",
    "                               description=\"Peso sináptico\", style=style, layout=layout),\n",
    "             tau=ipw.FloatSlider(value=5, min=1, max=50, step=1, continuous_update=False,\n",
    "                                 description=\"Constante de tiempo de membrana (ms)\", style=style, layout=layout),\n",
    "             tau_t=ipw.FloatSlider(value=30, min=5, max=500, step=5, continuous_update=False,\n",
    "                                   description=\"Constante de adaptación (ms)\", style=style, layout=layout),\n",
    "             delta_t=ipw.FloatSlider(value=1.0, min=0, max=20, step=0.1, continuous_update=False,\n",
    "                                     description=\"Fuerza de adaptación\", style=style, layout=layout),\n",
    "            );\n"
   ]
  },
  {
   "cell_type": "code",
   "execution_count": null,
   "id": "5faadc7b-75e9-4c90-b616-de464f6c03bd",
   "metadata": {},
   "outputs": [],
   "source": []
  }
 ],
 "metadata": {
  "kernelspec": {
   "display_name": "Python 3 (ipykernel)",
   "language": "python",
   "name": "python3"
  },
  "language_info": {
   "codemirror_mode": {
    "name": "ipython",
    "version": 3
   },
   "file_extension": ".py",
   "mimetype": "text/x-python",
   "name": "python",
   "nbconvert_exporter": "python",
   "pygments_lexer": "ipython3",
   "version": "3.10.16"
  }
 },
 "nbformat": 4,
 "nbformat_minor": 5
}
